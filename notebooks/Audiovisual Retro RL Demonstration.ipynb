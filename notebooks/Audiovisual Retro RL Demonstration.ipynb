{
 "cells": [
  {
   "cell_type": "markdown",
   "id": "c036637a",
   "metadata": {},
   "source": [
    "In this notebook I will demonstrate to train an agent using video and audio from retro gym."
   ]
  },
  {
   "cell_type": "markdown",
   "id": "a77118be",
   "metadata": {
    "id": "Ah78zbJLEezx"
   },
   "source": [
    "# Preparations"
   ]
  },
  {
   "cell_type": "markdown",
   "id": "418dc1c0",
   "metadata": {},
   "source": [
    "Works with colab, adjust for conda/widnows/etc... if needed"
   ]
  },
  {
   "cell_type": "code",
   "execution_count": null,
   "id": "25da4574",
   "metadata": {},
   "outputs": [],
   "source": [
    "# Install some libraries\n",
    "!pip install -q gym\n",
    "!pip install -q gym-retro\n",
    "!apt install xvfb -y\n",
    "!pip install pyvirtualdisplay\n",
    "!pip install piglet\n",
    "\n",
    "# Get my version of stable-baselines3 with audio support\n",
    "!git clone -b gym-to-retro https://github.com/rienath/stable-baselines3.git\n",
    "!mv stable-baselines3/stable_baselines3 stable_baselines3\n",
    "!rm -rf stable-baselines3/\n",
    "\n",
    "# Download Atari game images and import them\n",
    "!wget http://www.atarimania.com/roms/Roms.rar && unrar x Roms.rar && unzip ROMS.zip\n",
    "!python -m retro.import ROMS/\n",
    "!python -m atari_py.import_roms ROMS/"
   ]
  },
  {
   "cell_type": "markdown",
   "id": "961fbb26",
   "metadata": {},
   "source": [
    "Imports"
   ]
  },
  {
   "cell_type": "code",
   "execution_count": null,
   "id": "1de7f7e4",
   "metadata": {},
   "outputs": [],
   "source": [
    "import stable_baselines3\n",
    "from stable_baselines3.ppo import PPO\n",
    "from stable_baselines3.common.env_util import make_retro_env\n",
    "from pyvirtualdisplay import Display\n",
    "display = Display(visible=0, size=(1400, 900))\n",
    "display.start()"
   ]
  },
  {
   "cell_type": "markdown",
   "id": "deeaee96",
   "metadata": {},
   "source": [
    "# Training"
   ]
  },
  {
   "cell_type": "code",
   "execution_count": null,
   "id": "ed60e7ea",
   "metadata": {},
   "outputs": [],
   "source": [
    "# Load tensorboard\n",
    "%load_ext tensorboard\n",
    "%tensorboard --logdir ./TEST/"
   ]
  },
  {
   "cell_type": "code",
   "execution_count": null,
   "id": "0c64f8d1",
   "metadata": {},
   "outputs": [],
   "source": [
    "# There already exists an environment generator that will make and wrap atari environments correctly.\n",
    "# Instead of Deterministic-v4, you can choose any. other desirable configuration.\n",
    "env = make_retro_env('BreakoutDeterministic-v4', seed=0)\n",
    "model = PPO(\"CnnPolicy\", env, verbose=0, tensorboard_log=\"./TEST/\")\n",
    "# Train\n",
    "model.learn(total_timesteps=1000000)"
   ]
  },
  {
   "cell_type": "code",
   "execution_count": null,
   "id": "c383a180",
   "metadata": {},
   "outputs": [],
   "source": [
    "# Close the environment\n",
    "env.close()"
   ]
  }
 ],
 "metadata": {
  "kernelspec": {
   "display_name": "Python 3 (ipykernel)",
   "language": "python",
   "name": "python3"
  },
  "language_info": {
   "codemirror_mode": {
    "name": "ipython",
    "version": 3
   },
   "file_extension": ".py",
   "mimetype": "text/x-python",
   "name": "python",
   "nbconvert_exporter": "python",
   "pygments_lexer": "ipython3",
   "version": "3.7.7"
  }
 },
 "nbformat": 4,
 "nbformat_minor": 5
}
